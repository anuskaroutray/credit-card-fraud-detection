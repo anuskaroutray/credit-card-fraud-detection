{
  "cells": [
    {
      "cell_type": "code",
      "execution_count": null,
      "metadata": {
        "colab": {
          "base_uri": "https://localhost:8080/"
        },
        "id": "-ftA4RTkisoK",
        "outputId": "44ebad52-31a3-4902-82b0-cdaf5c75194c"
      },
      "outputs": [
        {
          "output_type": "stream",
          "name": "stdout",
          "text": [
            "Mounted at /content/drive\n"
          ]
        }
      ],
      "source": [
        "# Mount the dataset to google drive\n",
        "from google.colab import drive\n",
        "drive.mount('/content/drive')"
      ]
    },
    {
      "cell_type": "code",
      "execution_count": null,
      "metadata": {
        "colab": {
          "base_uri": "https://localhost:8080/"
        },
        "id": "XJsSPnLo7dSs",
        "outputId": "08109b50-e636-4aea-92d3-126bcae38dd1"
      },
      "outputs": [
        {
          "output_type": "stream",
          "name": "stdout",
          "text": [
            "Looking in indexes: https://pypi.org/simple, https://us-python.pkg.dev/colab-wheels/public/simple/\n",
            "Requirement already satisfied: xgboost in /usr/local/lib/python3.8/dist-packages (0.90)\n",
            "Requirement already satisfied: numpy in /usr/local/lib/python3.8/dist-packages (from xgboost) (1.21.6)\n",
            "Requirement already satisfied: scipy in /usr/local/lib/python3.8/dist-packages (from xgboost) (1.7.3)\n"
          ]
        }
      ],
      "source": [
        "#Install the xgboost module\n",
        "!pip install xgboost"
      ]
    },
    {
      "cell_type": "code",
      "execution_count": null,
      "metadata": {
        "colab": {
          "base_uri": "https://localhost:8080/"
        },
        "id": "rhh6J3pstZGT",
        "outputId": "2ff624b2-c5ac-453f-aacb-fa93a605b610"
      },
      "outputs": [
        {
          "output_type": "stream",
          "name": "stdout",
          "text": [
            "Looking in indexes: https://pypi.org/simple, https://us-python.pkg.dev/colab-wheels/public/simple/\n",
            "Requirement already satisfied: imbalanced-learn in /usr/local/lib/python3.8/dist-packages (0.8.1)\n",
            "Requirement already satisfied: scipy>=0.19.1 in /usr/local/lib/python3.8/dist-packages (from imbalanced-learn) (1.7.3)\n",
            "Requirement already satisfied: numpy>=1.13.3 in /usr/local/lib/python3.8/dist-packages (from imbalanced-learn) (1.21.6)\n",
            "Requirement already satisfied: joblib>=0.11 in /usr/local/lib/python3.8/dist-packages (from imbalanced-learn) (1.2.0)\n",
            "Requirement already satisfied: scikit-learn>=0.24 in /usr/local/lib/python3.8/dist-packages (from imbalanced-learn) (1.0.2)\n",
            "Requirement already satisfied: threadpoolctl>=2.0.0 in /usr/local/lib/python3.8/dist-packages (from scikit-learn>=0.24->imbalanced-learn) (3.1.0)\n"
          ]
        }
      ],
      "source": [
        "!pip install imbalanced-learn"
      ]
    },
    {
      "cell_type": "markdown",
      "metadata": {
        "id": "e7z3A2hnsjX5"
      },
      "source": [
        "# Import the required Libraries"
      ]
    },
    {
      "cell_type": "code",
      "execution_count": null,
      "metadata": {
        "id": "_pE6hi9mpWkO"
      },
      "outputs": [],
      "source": [
        "# Import the required libraries for ML algorithms\n",
        "import imblearn\n",
        "import numpy as np\n",
        "import pandas as pd\n",
        "from tqdm import tqdm\n",
        "from sklearn.svm import SVC\n",
        "import matplotlib.pyplot as plt\n",
        "from xgboost import XGBClassifier\n",
        "from imblearn.over_sampling import SMOTE\n",
        "from sklearn.tree import DecisionTreeClassifier\n",
        "from sklearn.preprocessing import LabelBinarizer\n",
        "from sklearn.neighbors import KNeighborsClassifier\n",
        "from sklearn.ensemble import RandomForestClassifier\n",
        "from sklearn.linear_model import LogisticRegression\n",
        "from sklearn.model_selection import train_test_split\n",
        " \n",
        "# Import accuracy metrics\n",
        "from sklearn.metrics import accuracy_score, precision_score, recall_score, f1_score, roc_auc_score, precision_recall_curve, plot_confusion_matrix\n",
        "\n",
        "# Filter warnings\n",
        "import warnings\n",
        "warnings.filterwarnings(\"ignore\")"
      ]
    },
    {
      "cell_type": "code",
      "execution_count": null,
      "metadata": {
        "id": "BH9D4bJD_sPl"
      },
      "outputs": [],
      "source": [
        "# Import the required libraries for CNN\n",
        "import torch\n",
        "import torch.nn as nn\n",
        "import torch.optim as optim\n",
        "from torch.utils.data import DataLoader, TensorDataset"
      ]
    },
    {
      "cell_type": "markdown",
      "metadata": {
        "id": "SF2zEN2mXrD2"
      },
      "source": [
        "# Data visualisation"
      ]
    },
    {
      "cell_type": "code",
      "execution_count": null,
      "metadata": {
        "id": "jAnMhCZ7sO7K"
      },
      "outputs": [],
      "source": [
        "# Create a class to change hyperparameters of CNN training\n",
        "class Args():\n",
        "\n",
        "  def __init__(self):\n",
        "    \n",
        "    self.data_path = \"/content/drive/MyDrive/creditcard.csv\"\n",
        "    self.random_state = 0\n",
        "    self.test_size = 0.2\n",
        "    self.batch_size = 2048\n",
        "    self.epochs = 35"
      ]
    },
    {
      "cell_type": "code",
      "execution_count": null,
      "metadata": {
        "id": "XjnNUxUuuqTD"
      },
      "outputs": [],
      "source": [
        "args = Args()"
      ]
    },
    {
      "cell_type": "code",
      "execution_count": null,
      "metadata": {
        "id": "m2MSX9hctE_H"
      },
      "outputs": [],
      "source": [
        "# Read the dataset\n",
        "df = pd.read_csv(args.data_path)"
      ]
    },
    {
      "cell_type": "code",
      "execution_count": null,
      "metadata": {
        "id": "V2l6haXcoQfr"
      },
      "outputs": [],
      "source": [
        "# Separate the features and labels from the dataframe\n",
        "X = np.array(df.drop(columns = [\"Time\", \"Amount\", \"Class\"]))\n",
        "y = np.array(df[\"Class\"])"
      ]
    },
    {
      "cell_type": "code",
      "execution_count": null,
      "metadata": {
        "colab": {
          "base_uri": "https://localhost:8080/"
        },
        "id": "RrJPLgdCpVOE",
        "outputId": "032c3bb2-f32e-4a98-85a5-f1ffa86a2e18"
      },
      "outputs": [
        {
          "output_type": "stream",
          "name": "stdout",
          "text": [
            "492\n",
            "284315\n"
          ]
        }
      ],
      "source": [
        "# y_1 represents number of fraudulent transactions\n",
        "y_1 = np.sum(y)\n",
        "\n",
        "# y_0 represents number of non-fraudulent transactions\n",
        "y_0 = y.shape[0] - y_1\n",
        "print(y_1)\n",
        "print(y_0)"
      ]
    },
    {
      "cell_type": "code",
      "execution_count": null,
      "metadata": {
        "colab": {
          "base_uri": "https://localhost:8080/",
          "height": 350
        },
        "id": "TjYt3uxdX_oH",
        "outputId": "f5042c9c-d7d2-474c-8354-729ac5c35cb6"
      },
      "outputs": [
        {
          "output_type": "display_data",
          "data": {
            "text/plain": [
              "<Figure size 504x360 with 1 Axes>"
            ],
            "image/png": "[encoded data removed]"
          },
          "metadata": {
            "needs_background": "light"
          }
        }
      ],
      "source": [
        "# Plot the Class distribution of dataset\n",
        "plt.figure(figsize = (7, 5))\n",
        "plt.bar([0, 1], [y_0, y_1], width = 0.2)\n",
        "plt.xlabel(\"Class Label\")\n",
        "plt.ylabel(\"Frequency\")\n",
        "plt.title(\"Class Distribution Plot\")\n",
        "plt.text(1.2, 251000, \"Class Distribution: From the class distribution plot,\\nwe can infer the data is indeed skewed with the number\\nof non-fraudulent transactions being very high compared\\nto fraudulent transactions.\")\n",
        "plt.show()"
      ]
    },
    {
      "cell_type": "markdown",
      "metadata": {
        "id": "-DiNZFTGilis"
      },
      "source": [
        "Class Distribution: From the class distribution plot, we can infer the data is indeed skewed with the number of non-fraudulent transactions being very high compared to fraudulent transactions."
      ]
    },
    {
      "cell_type": "code",
      "execution_count": null,
      "metadata": {
        "colab": {
          "base_uri": "https://localhost:8080/",
          "height": 353
        },
        "id": "Mp-ubjrvqWKU",
        "outputId": "606e2354-00f8-4e56-d390-534d81cdb7e5"
      },
      "outputs": [
        {
          "output_type": "stream",
          "name": "stdout",
          "text": [
            "[0 1 2 3 4 5]\n"
          ]
        },
        {
          "output_type": "display_data",
          "data": {
            "text/plain": [
              "<Figure size 504x360 with 1 Axes>"
            ],
            "image/png": "[encoded data removed]"
          },
          "metadata": {
            "needs_background": "light"
          }
        }
      ],
      "source": [
        "# Plot several statistical quantities of the dataset\n",
        "plt.figure(figsize = (7, 5))\n",
        "non_fraud = np.array(df[df[\"Class\"] == 0].describe()[\"Amount\"].drop([\"count\", \"max\"]))\n",
        "fraud = np.array(df[df[\"Class\"] == 1].describe()[\"Amount\"].drop([\"count\", \"max\"]))\n",
        "x_labels = np.array([i for i in range(non_fraud.shape[0])])\n",
        "print(x_labels)\n",
        "my_xticks = ['Mean','Std','Min','25%', '50%', '75%']\n",
        "plt.xticks(x_labels, my_xticks)\n",
        "plt.plot(x_labels, non_fraud, c = \"r\", label = \"Non Fraud Case Amount Statistics\")\n",
        "plt.plot(x_labels, fraud, c = \"b\", label = \"Fraud Case Amount Statistics\")\n",
        "plt.title(\"Line Graph\")\n",
        "plt.text(5.5, 220,\"Statistical Quantities: From the above plot,\\nwe get an idea about the central tendencies\\nof the dataset corresponding to fraudulent\\nand non fraudulent transactions.\")\n",
        "plt.legend()\n",
        "plt.show()"
      ]
    },
    {
      "cell_type": "markdown",
      "metadata": {
        "id": "KhlqNSuhip8z"
      },
      "source": [
        "Statistical Quantities: From the above plot, we get an idea about the central tendencies of the dataset corresponding to fraudulent and non fraudulent transactions.\n"
      ]
    },
    {
      "cell_type": "markdown",
      "metadata": {
        "id": "UK8c-nB0X4FR"
      },
      "source": [
        "# No Data Balancing"
      ]
    },
    {
      "cell_type": "code",
      "execution_count": null,
      "metadata": {
        "id": "GsMC2YIhtsp2"
      },
      "outputs": [],
      "source": [
        "# Split the data into training and test set\n",
        "x_train, x_test, y_train, y_test = train_test_split(X, y, random_state = args.random_state, test_size = args.test_size)"
      ]
    },
    {
      "cell_type": "markdown",
      "metadata": {
        "id": "gDJnjppQtBH7"
      },
      "source": [
        "# Data Balancing"
      ]
    },
    {
      "cell_type": "code",
      "execution_count": null,
      "metadata": {
        "id": "Xw6Yu1bTtD-w"
      },
      "outputs": [],
      "source": [
        "# Implement data balancing using SMOTE\n",
        "oversample = SMOTE(sampling_strategy = 0.1)\n",
        "X_balanced, y_balanced = oversample.fit_resample(X, y)\n",
        "x_train, x_test, y_train, y_test = train_test_split(X_balanced, y_balanced, random_state = args.random_state, test_size = args.test_size)"
      ]
    },
    {
      "cell_type": "code",
      "execution_count": null,
      "metadata": {
        "id": "6MxnlmkJwodV"
      },
      "outputs": [],
      "source": [
        "# Function to compute the evaluation metrics given the predicted and true labels\n",
        "def compute_metrics(preds, true):\n",
        "    \n",
        "  accuracy = accuracy_score(true, preds)\n",
        "  precision = precision_score(true, preds)\n",
        "  f1 = f1_score(true, preds)\n",
        "  recall = recall_score(true, preds)\n",
        "  roc_auc = roc_auc_score(true, preds)\n",
        "  prc = precision_recall_curve(true, preds)\n",
        "\n",
        "  return accuracy, precision, recall, f1, roc_auc, prc"
      ]
    },
    {
      "cell_type": "markdown",
      "metadata": {
        "id": "xjzYLLq7u-3t"
      },
      "source": [
        "# Decision Tree Classifier"
      ]
    },
    {
      "cell_type": "code",
      "execution_count": null,
      "metadata": {
        "colab": {
          "base_uri": "https://localhost:8080/",
          "height": 383
        },
        "id": "qLaUV0mku5Ij",
        "outputId": "48673758-1174-44c4-e079-3650687d1539"
      },
      "outputs": [
        {
          "output_type": "stream",
          "name": "stdout",
          "text": [
            "The training metrics are: \n",
            "\tAccuracy:  0.9857, Precision:  0.9905, Recall:  0.8518, F1:  0.9159\n",
            "\n",
            "The test metrics are: \n",
            "\tAccuracy:  0.9846, Precision:  0.9901, Recall:  0.8364, F1:  0.9068\n",
            "\n"
          ]
        },
        {
          "output_type": "display_data",
          "data": {
            "text/plain": [
              "<Figure size 432x288 with 2 Axes>"
            ],
            "image/png": "[encoded data removed]"
          },
          "metadata": {
            "needs_background": "light"
          }
        }
      ],
      "source": [
        "# Fit the decision tree classifier and evaluate\n",
        "decision_tree = DecisionTreeClassifier(max_depth = 4, random_state = args.random_state, criterion = \"entropy\")\n",
        "decision_tree.fit(x_train, y_train)\n",
        "train_preds = decision_tree.predict(x_train)\n",
        "test_preds = decision_tree.predict(x_test)\n",
        "\n",
        "train_accuracy, train_precision, train_recall, train_f1, train_roc, train_prc = compute_metrics(train_preds, y_train)\n",
        "test_accuracy, test_precision, test_recall, test_f1, test_roc, test_prc = compute_metrics(test_preds, y_test)\n",
        "\n",
        "print(\"The training metrics are: \")\n",
        "print(f\"\\tAccuracy: {train_accuracy: .4f}, Precision: {train_precision: .4f}, Recall: {train_recall: .4f}, F1: {train_f1: .4f}\\n\")\n",
        "print(\"The test metrics are: \")\n",
        "print(f\"\\tAccuracy: {test_accuracy: .4f}, Precision: {test_precision: .4f}, Recall: {test_recall: .4f}, F1: {test_f1: .4f}\\n\")\n",
        "\n",
        "plot_confusion_matrix(decision_tree, x_test, y_test)\n",
        "plt.text(2.5,0.5,\"The training metrics are:\\nAccuracy:  0.9995, Precision:  0.8908,\\nRecall:  0.7928, F1:  0.8390\\n\\nThe test metrics are:\\nAccuracy:  0.9994, Precision:  0.8652,\\nRecall:  0.7624, F1:  0.8105\")\n",
        "plt.show()"
      ]
    },
    {
      "cell_type": "code",
      "source": [
        "import pickle\n",
        "file_name = \"decision_tree_balanced.pkl\"\n",
        "with open(file_name, \"wb\") as file:\n",
        "    pickle.dump(decision_tree, file)"
      ],
      "metadata": {
        "id": "JEyUfT3Yy5c9"
      },
      "execution_count": null,
      "outputs": []
    },
    {
      "cell_type": "markdown",
      "metadata": {
        "id": "PCrtppUD8klS"
      },
      "source": [
        "# K Nearest Neighbours"
      ]
    },
    {
      "cell_type": "code",
      "execution_count": null,
      "metadata": {
        "colab": {
          "base_uri": "https://localhost:8080/",
          "height": 383
        },
        "id": "uxvROD1Bu1vq",
        "outputId": "63e66271-733d-48a0-faf9-32b90e788b96"
      },
      "outputs": [
        {
          "output_type": "stream",
          "name": "stdout",
          "text": [
            "The training metrics are: \n",
            "\tAccuracy:  0.9991, Precision:  0.9900, Recall:  0.9998, F1:  0.9949\n",
            "\n",
            "The test metrics are: \n",
            "\tAccuracy:  0.9989, Precision:  0.9887, Recall:  0.9993, F1:  0.9940\n",
            "\n"
          ]
        },
        {
          "output_type": "display_data",
          "data": {
            "text/plain": [
              "<Figure size 432x288 with 2 Axes>"
            ],
            "image/png": "[encoded data removed]"
          },
          "metadata": {
            "needs_background": "light"
          }
        }
      ],
      "source": [
        "# Fit the K nearest neighbours classifier and evaluate\n",
        "knn = KNeighborsClassifier(n_neighbors = 5)\n",
        "knn.fit(x_train, y_train)\n",
        "train_preds = knn.predict(x_train)\n",
        "test_preds = knn.predict(x_test)\n",
        "\n",
        "train_accuracy, train_precision, train_recall, train_f1, train_roc, train_prc = compute_metrics(train_preds, y_train)\n",
        "test_accuracy, test_precision, test_recall, test_f1, test_roc, test_prc = compute_metrics(test_preds, y_test)\n",
        "\n",
        "print(\"The training metrics are: \")\n",
        "print(f\"\\tAccuracy: {train_accuracy: .4f}, Precision: {train_precision: .4f}, Recall: {train_recall: .4f}, F1: {train_f1: .4f}\\n\")\n",
        "print(\"The test metrics are: \")\n",
        "print(f\"\\tAccuracy: {test_accuracy: .4f}, Precision: {test_precision: .4f}, Recall: {test_recall: .4f}, F1: {test_f1: .4f}\\n\")\n",
        "\n",
        "plot_confusion_matrix(knn, x_test, y_test)\n",
        "plt.show()"
      ]
    },
    {
      "cell_type": "code",
      "source": [
        "import pickle\n",
        "file_name = \"knn_balanced.pkl\"\n",
        "with open(file_name, \"wb\") as file:\n",
        "    pickle.dump(knn, file)"
      ],
      "metadata": {
        "id": "FwH--7g8UoNW"
      },
      "execution_count": null,
      "outputs": []
    },
    {
      "cell_type": "markdown",
      "metadata": {
        "id": "QqfP6M_q8nPJ"
      },
      "source": [
        "# Support Vector Machines"
      ]
    },
    {
      "cell_type": "code",
      "execution_count": null,
      "metadata": {
        "colab": {
          "base_uri": "https://localhost:8080/",
          "height": 383
        },
        "id": "hdQDoP1G4sPY",
        "outputId": "06c4931b-4c44-4a10-f247-44c9e0660bc2"
      },
      "outputs": [
        {
          "output_type": "stream",
          "name": "stdout",
          "text": [
            "The training metrics are: \n",
            "\tAccuracy:  0.9913, Precision:  0.9911, Recall:  0.9128, F1:  0.9503\n",
            "\n",
            "The test metrics are: \n",
            "\tAccuracy:  0.9914, Precision:  0.9900, Recall:  0.9138, F1:  0.9503\n",
            "\n"
          ]
        },
        {
          "output_type": "display_data",
          "data": {
            "text/plain": [
              "<Figure size 432x288 with 2 Axes>"
            ],
            "image/png": "[encoded data removed]"
          },
          "metadata": {
            "needs_background": "light"
          }
        }
      ],
      "source": [
        "# Fit the support vector machines classifier and evaluate\n",
        "svm = SVC(random_state = args.random_state)\n",
        "svm.fit(x_train, y_train)\n",
        "train_preds = svm.predict(x_train)\n",
        "test_preds = svm.predict(x_test)\n",
        "\n",
        "train_accuracy, train_precision, train_recall, train_f1, train_roc, train_prc = compute_metrics(train_preds, y_train)\n",
        "test_accuracy, test_precision, test_recall, test_f1, test_roc, test_prc = compute_metrics(test_preds, y_test)\n",
        "\n",
        "print(\"The training metrics are: \")\n",
        "print(f\"\\tAccuracy: {train_accuracy: .4f}, Precision: {train_precision: .4f}, Recall: {train_recall: .4f}, F1: {train_f1: .4f}\\n\")\n",
        "print(\"The test metrics are: \")\n",
        "print(f\"\\tAccuracy: {test_accuracy: .4f}, Precision: {test_precision: .4f}, Recall: {test_recall: .4f}, F1: {test_f1: .4f}\\n\")\n",
        "plot_confusion_matrix(svm, x_test, y_test)\n",
        "plt.show()"
      ]
    },
    {
      "cell_type": "code",
      "source": [
        "import pickle\n",
        "file_name = \"svm_balanced.pkl\"\n",
        "with open(file_name, \"wb\") as file:\n",
        "    pickle.dump(svm, file)"
      ],
      "metadata": {
        "id": "0hyWGVLbuav6"
      },
      "execution_count": null,
      "outputs": []
    },
    {
      "cell_type": "markdown",
      "metadata": {
        "id": "4-NK4nkg8rJj"
      },
      "source": [
        "# Random Forest Classifier"
      ]
    },
    {
      "cell_type": "code",
      "execution_count": null,
      "metadata": {
        "colab": {
          "base_uri": "https://localhost:8080/",
          "height": 383
        },
        "id": "B6uXGAGq2gtk",
        "outputId": "e7e437e7-39d6-48fe-8240-515b36e6e9cb"
      },
      "outputs": [
        {
          "output_type": "stream",
          "name": "stdout",
          "text": [
            "The training metrics are: \n",
            "\tAccuracy:  1.0000, Precision:  1.0000, Recall:  1.0000, F1:  1.0000\n",
            "\n",
            "The test metrics are: \n",
            "\tAccuracy:  0.9986, Precision:  0.9977, Recall:  0.9870, F1:  0.9923\n",
            "\n"
          ]
        },
        {
          "output_type": "display_data",
          "data": {
            "text/plain": [
              "<Figure size 432x288 with 2 Axes>"
            ],
            "image/png": "[encoded data removed]"
          },
          "metadata": {
            "needs_background": "light"
          }
        }
      ],
      "source": [
        "# Fit the random forest classifier and evaluate\n",
        "rfc = RandomForestClassifier(random_state = args.random_state)\n",
        "rfc.fit(x_train, y_train)\n",
        "train_preds = rfc.predict(x_train)\n",
        "test_preds = rfc.predict(x_test)\n",
        "\n",
        "train_accuracy, train_precision, train_recall, train_f1, train_roc, train_prc = compute_metrics(train_preds, y_train)\n",
        "test_accuracy, test_precision, test_recall, test_f1, test_roc, test_prc = compute_metrics(test_preds, y_test)\n",
        "\n",
        "print(\"The training metrics are: \")\n",
        "print(f\"\\tAccuracy: {train_accuracy: .4f}, Precision: {train_precision: .4f}, Recall: {train_recall: .4f}, F1: {train_f1: .4f}\\n\")\n",
        "print(\"The test metrics are: \")\n",
        "print(f\"\\tAccuracy: {test_accuracy: .4f}, Precision: {test_precision: .4f}, Recall: {test_recall: .4f}, F1: {test_f1: .4f}\\n\")\n",
        "\n",
        "plot_confusion_matrix(rfc, x_test, y_test)\n",
        "plt.text(2.5,0.5,\"The training metrics are:\\nAccuracy:  1.0000, Precision:  1.0000,\\nRecall:  1.0000, F1:  1.0000\\n\\nThe test metrics are:\\nAccuracy:  0.9995, Precision:  0.9186,\\nRecall:  0.7822, F1:  0.8449\")\n",
        "plt.show()"
      ]
    },
    {
      "cell_type": "code",
      "source": [
        "import pickle\n",
        "file_name = \"rfc_balanced.pkl\"\n",
        "with open(file_name, \"wb\") as file:\n",
        "    pickle.dump(rfc, file)"
      ],
      "metadata": {
        "id": "LwJ3kvA1BBeH"
      },
      "execution_count": null,
      "outputs": []
    },
    {
      "cell_type": "markdown",
      "metadata": {
        "id": "kbqP82_l8te0"
      },
      "source": [
        "# Logistic Regression"
      ]
    },
    {
      "cell_type": "code",
      "execution_count": null,
      "metadata": {
        "colab": {
          "base_uri": "https://localhost:8080/",
          "height": 383
        },
        "id": "dkKPjBY64us4",
        "outputId": "61cb5563-a0a3-4458-b83b-09d4f3b261e3"
      },
      "outputs": [
        {
          "output_type": "stream",
          "name": "stdout",
          "text": [
            "The training metrics are: \n",
            "\tAccuracy:  0.9855, Precision:  0.9774, Recall:  0.8610, F1:  0.9155\n",
            "\n",
            "The test metrics are: \n",
            "\tAccuracy:  0.9857, Precision:  0.9766, Recall:  0.8614, F1:  0.9154\n",
            "\n"
          ]
        },
        {
          "output_type": "display_data",
          "data": {
            "text/plain": [
              "<Figure size 432x288 with 2 Axes>"
            ],
            "image/png": "[encoded data removed]"
          },
          "metadata": {
            "needs_background": "light"
          }
        }
      ],
      "source": [
        "# Fit the logistic regression classifier and evaluate\n",
        "lr = LogisticRegression(C = 0.55)\n",
        "lr.fit(x_train, y_train)\n",
        "train_preds = lr.predict(x_train)\n",
        "test_preds = lr.predict(x_test)\n",
        "\n",
        "train_accuracy, train_precision, train_recall, train_f1, train_roc, train_prc = compute_metrics(train_preds, y_train)\n",
        "test_accuracy, test_precision, test_recall, test_f1, test_roc, test_prc = compute_metrics(test_preds, y_test)\n",
        "\n",
        "print(\"The training metrics are: \")\n",
        "print(f\"\\tAccuracy: {train_accuracy: .4f}, Precision: {train_precision: .4f}, Recall: {train_recall: .4f}, F1: {train_f1: .4f}\\n\")\n",
        "print(\"The test metrics are: \")\n",
        "print(f\"\\tAccuracy: {test_accuracy: .4f}, Precision: {test_precision: .4f}, Recall: {test_recall: .4f}, F1: {test_f1: .4f}\\n\")\n",
        "\n",
        "plot_confusion_matrix(lr, x_test, y_test)\n",
        "plt.text(2.5,0.5,\"The training metrics are:\\nAccuracy:  0.9992, Precision:  0.8759,\\nRecall:  0.6138, F1:  0.7218\\n\\nThe test metrics are:\\nAccuracy:  0.9992, Precision:  0.8889,\\nRecall:  0.6337, F1:  0.7399\")\n",
        "plt.show()"
      ]
    },
    {
      "cell_type": "code",
      "source": [
        "import pickle\n",
        "file_name = \"lr_balanced.pkl\"\n",
        "with open(file_name, \"wb\") as file:\n",
        "    pickle.dump(lr, file)"
      ],
      "metadata": {
        "id": "gqNU3Np6B-5y"
      },
      "execution_count": null,
      "outputs": []
    },
    {
      "cell_type": "markdown",
      "metadata": {
        "id": "L0LHwoG28vlN"
      },
      "source": [
        "# XGBoost Classifier"
      ]
    },
    {
      "cell_type": "code",
      "execution_count": null,
      "metadata": {
        "colab": {
          "base_uri": "https://localhost:8080/"
        },
        "id": "ypgZJd3Z41Uy",
        "outputId": "6d483bdf-d0db-468f-a0fb-d57b767da826"
      },
      "outputs": [
        {
          "output_type": "stream",
          "name": "stdout",
          "text": [
            "The training metrics are: \n",
            "\tAccuracy:  0.9888, Precision:  0.9887, Recall:  0.8875, F1:  0.9353\n",
            "\n",
            "The test metrics are: \n",
            "\tAccuracy:  0.9890, Precision:  0.9891, Recall:  0.8870, F1:  0.9353\n",
            "\n"
          ]
        },
        {
          "output_type": "display_data",
          "data": {
            "text/plain": [
              "<Figure size 432x288 with 2 Axes>"
            ],
            "image/png": "[encoded data removed]"
          },
          "metadata": {
            "needs_background": "light"
          }
        }
      ],
      "source": [
        "# Fit the xgboost classifier and evaluate\n",
        "\n",
        "xgb = XGBClassifier(random_state = args.random_state)\n",
        "xgb.fit(x_train, y_train)\n",
        "train_preds = xgb.predict(x_train)\n",
        "test_preds = xgb.predict(x_test)\n",
        "\n",
        "train_accuracy, train_precision, train_recall, train_f1, train_roc, train_prc = compute_metrics(train_preds, y_train)\n",
        "test_accuracy, test_precision, test_recall, test_f1, test_roc, test_prc = compute_metrics(test_preds, y_test)\n",
        "\n",
        "print(\"The training metrics are: \")\n",
        "print(f\"\\tAccuracy: {train_accuracy: .4f}, Precision: {train_precision: .4f}, Recall: {train_recall: .4f}, F1: {train_f1: .4f}\\n\")\n",
        "print(\"The test metrics are: \")\n",
        "print(f\"\\tAccuracy: {test_accuracy: .4f}, Precision: {test_precision: .4f}, Recall: {test_recall: .4f}, F1: {test_f1: .4f}\\n\")\n",
        "\n",
        "plot_confusion_matrix(xgb, x_test, y_test)\n",
        "plt.text(2.5,0.5,\"The training metrics are:\\nAccuracy:  0.9997, Precision:  0.9731,\\nRecall:  0.8312, F1:  0.8966\\n\\nThe test metrics are:\\nAccuracy:  0.9995, Precision:  0.9080,\\nRecall:  0.7822, F1:  0.8404\")\n",
        "plt.show()"
      ]
    },
    {
      "cell_type": "code",
      "source": [
        "import pickle\n",
        "file_name = \"xgb_balanced.pkl\"\n",
        "with open(file_name, \"wb\") as file:\n",
        "    pickle.dump(xgb, file)"
      ],
      "metadata": {
        "id": "H0Jxul0jCIAj"
      },
      "execution_count": null,
      "outputs": []
    },
    {
      "cell_type": "markdown",
      "metadata": {
        "id": "gBp3cxrVD7jl"
      },
      "source": [
        "# Prepare the dataloader for torch model training"
      ]
    },
    {
      "cell_type": "code",
      "execution_count": null,
      "metadata": {
        "id": "9zhlidK_ETW2"
      },
      "outputs": [],
      "source": [
        "# Prepare the training dataloader\n",
        "train_dataset = TensorDataset(torch.from_numpy(x_train), torch.from_numpy(y_train))\n",
        "trainloader = DataLoader(train_dataset, batch_size = args.batch_size)"
      ]
    },
    {
      "cell_type": "code",
      "execution_count": null,
      "metadata": {
        "id": "kK3hQ8VqFDJc"
      },
      "outputs": [],
      "source": [
        "# Prepare the test dataloader\n",
        "test_dataset = TensorDataset(torch.from_numpy(x_test), torch.from_numpy(y_test))\n",
        "testloader = DataLoader(test_dataset, batch_size = args.batch_size)"
      ]
    },
    {
      "cell_type": "markdown",
      "metadata": {
        "id": "xvyKw9vWD_sF"
      },
      "source": [
        "\n",
        "---\n",
        "\n"
      ]
    },
    {
      "cell_type": "markdown",
      "metadata": {
        "id": "Xx0ZZIj182dy"
      },
      "source": [
        "# Baseline Convolutional Neural Networks\n"
      ]
    },
    {
      "cell_type": "code",
      "execution_count": null,
      "metadata": {
        "id": "4hUYoaR4BtYr"
      },
      "outputs": [],
      "source": [
        "# Baseline CNN Class following the architecture mentioned in the paper\n",
        "class BaselineCNN(nn.Module):\n",
        "  def __init__(self):\n",
        "    super(BaselineCNN, self).__init__()\n",
        "\n",
        "    self.conv1 = nn.Conv1d(1, 32, 2)\n",
        "    self.bn1 = nn.BatchNorm1d(32)\n",
        "    self.dropout1 = nn.Dropout(0.2)\n",
        "\n",
        "    self.conv2 = nn.Conv1d(32, 64, 2)\n",
        "    self.bn2 = nn.BatchNorm1d(64)\n",
        "    self.dropout2 = nn.Dropout(0.2)\n",
        "\n",
        "    self.dense = nn.Linear(1664, 64)\n",
        "    self.dropout3 = nn.Dropout(0.5)\n",
        "    self.dense1 = nn.Linear(64, 1)\n",
        "\n",
        "    self.relu = nn.ReLU()\n",
        "    self.sigmoid = nn.Sigmoid()\n",
        "\n",
        "  # Forward propagation given an input\n",
        "  def forward(self, x):\n",
        "      x = self.dropout1(self.bn1(self.relu(self.conv1(x))))\n",
        "      x = self.dropout2(self.bn2(self.relu(self.conv2(x))))\n",
        "      x = torch.flatten(x, start_dim = 1)\n",
        "      x = self.relu(self.dense(x))\n",
        "      x = self.dropout3(x)\n",
        "      x = self.dense1(x)\n",
        "      x = self.sigmoid(x)\n",
        "      return x"
      ]
    },
    {
      "cell_type": "code",
      "execution_count": null,
      "metadata": {
        "id": "uKugf7iTu3ac"
      },
      "outputs": [],
      "source": [
        "# CNN Class with 14 layers following the architecture mentioned in the paper\n",
        "class CNN14(nn.Module):\n",
        "    def __init__(self):\n",
        "        super(CNN14, self).__init__()\n",
        "\n",
        "        self.conv1 = nn.Conv1d(1, 32, 2)\n",
        "        self.bn1 = nn.BatchNorm1d(32)\n",
        "        self.dropout1 = nn.Dropout(0.2)\n",
        "        \n",
        "        self.conv2 = nn.Conv1d(32, 64, 2)\n",
        "        self.bn2 = nn.BatchNorm1d(64)\n",
        "        self.dropout2 = nn.Dropout(0.5)\n",
        "        \n",
        "        self.dense = nn.Linear(1664, 64)\n",
        "        self.dropout3 = nn.Dropout(0.5)\n",
        "        self.dense1 = nn.Linear(64, 100)\n",
        "        self.dense2 = nn.Linear(100, 50)\n",
        "        self.dense3 = nn.Linear(50, 25)\n",
        "\n",
        "        self.cls = nn.Linear(25, 1)\n",
        "        self.relu = nn.ReLU()\n",
        "        self.sigmoid = nn.Sigmoid()\n",
        "\n",
        "    def forward(self, x):\n",
        "\n",
        "        x = self.dropout1(self.bn1(self.relu(self.conv1(x))))\n",
        "        x = self.dropout2(self.bn2(self.relu(self.conv2(x))))\n",
        "        x = torch.flatten(x, start_dim = 1)\n",
        "        x = self.relu(self.dense(x))\n",
        "        x = self.dropout3(x)\n",
        "        x = self.relu(self.dense1(x))\n",
        "        x = self.relu(self.dense2(x))\n",
        "        x = self.relu(self.dense3(x))\n",
        "        x = self.sigmoid(self.cls(x))\n",
        "\n",
        "        return x"
      ]
    },
    {
      "cell_type": "code",
      "execution_count": null,
      "metadata": {
        "id": "GO8vqN36xebv"
      },
      "outputs": [],
      "source": [
        "# CNN Class with 17 layers following the architecture mentioned in the paper\n",
        "class CNN17(nn.Module):\n",
        "    def __init__(self):\n",
        "        super(CNN17, self).__init__()\n",
        "\n",
        "        self.conv1 = nn.Conv1d(1, 32, 2)\n",
        "        self.bn1 = nn.BatchNorm1d(32)\n",
        "        self.dropout1 = nn.Dropout(0.2)\n",
        "\n",
        "        self.conv2 = nn.Conv1d(32, 64, 2)\n",
        "        self.bn2 = nn.BatchNorm1d(64)\n",
        "        self.dropout2 = nn.Dropout(0.5)\n",
        "\n",
        "        self.conv3 = nn.Conv1d(64, 64, 2)\n",
        "        self.bn3 = nn.BatchNorm1d(64)\n",
        "        self.dropout3 = nn.Dropout(0.25)\n",
        "\n",
        "        self.dense = nn.Linear(1600, 64)\n",
        "        self.dropout3 = nn.Dropout(0.5)\n",
        "        self.dense1 = nn.Linear(64, 100)\n",
        "        self.dense2 = nn.Linear(100, 50)\n",
        "        self.dense3 = nn.Linear(50, 25)\n",
        "\n",
        "        self.cls = nn.Linear(25, 1)\n",
        "        self.relu = nn.ReLU()\n",
        "        self.sigmoid = nn.Sigmoid()\n",
        "\n",
        "    def forward(self, x):\n",
        "\n",
        "        x = self.dropout1(self.bn1(self.relu(self.conv1(x))))\n",
        "        x = self.dropout2(self.bn2(self.relu(self.conv2(x))))\n",
        "        x = self.dropout3(self.bn3(self.relu(self.conv3(x))))\n",
        "        x = torch.flatten(x, start_dim = 1)\n",
        "        x = self.relu(self.dense(x))\n",
        "        x = self.dropout3(x)\n",
        "        x = self.relu(self.dense1(x))\n",
        "        x = self.relu(self.dense2(x))\n",
        "        x = self.relu(self.dense3(x))\n",
        "        x = self.sigmoid(self.cls(x))\n",
        "\n",
        "        return x"
      ]
    },
    {
      "cell_type": "code",
      "execution_count": null,
      "metadata": {
        "id": "rC6qLUZhyyQy"
      },
      "outputs": [],
      "source": [
        "# CNN Class with 20 layers following the architecture mentioned in the paper\n",
        "class CNN20(nn.Module):\n",
        "    def __init__(self):\n",
        "        super(CNN20, self).__init__()\n",
        "\n",
        "        self.conv1 = nn.Conv1d(1, 32, 2)\n",
        "        self.bn1 = nn.BatchNorm1d(32)\n",
        "        self.dropout1 = nn.Dropout(0.2)\n",
        "\n",
        "        self.conv2 = nn.Conv1d(32, 64, 2)\n",
        "        self.bn2 = nn.BatchNorm1d(64)\n",
        "        self.dropout2 = nn.Dropout(0.5)\n",
        "\n",
        "        self.conv3 = nn.Conv1d(64, 64, 2)\n",
        "        self.bn3 = nn.BatchNorm1d(64)\n",
        "        self.dropout3 = nn.Dropout(0.5)\n",
        "\n",
        "        self.conv4 = nn.Conv1d(64, 64, 2)\n",
        "        self.bn4 = nn.BatchNorm1d(64)\n",
        "        self.dropout4 = nn.Dropout(0.25)\n",
        "\n",
        "        self.dense = nn.Linear(1536, 64)\n",
        "        self.dropout3 = nn.Dropout(0.5)\n",
        "        self.dense1 = nn.Linear(64, 100)\n",
        "        self.dense2 = nn.Linear(100, 50)\n",
        "        self.dense3 = nn.Linear(50, 25)\n",
        "\n",
        "        self.cls = nn.Linear(25, 1)\n",
        "        self.relu = nn.ReLU()\n",
        "        self.sigmoid = nn.Sigmoid()\n",
        "\n",
        "    def forward(self, x):\n",
        "\n",
        "        x = self.dropout1(self.bn1(self.relu(self.conv1(x))))\n",
        "        x = self.dropout2(self.bn2(self.relu(self.conv2(x))))\n",
        "        x = self.dropout3(self.bn3(self.relu(self.conv3(x))))\n",
        "        x = self.dropout4(self.bn4(self.relu(self.conv4(x))))\n",
        "        x = torch.flatten(x, start_dim = 1)\n",
        "        x = self.relu(self.dense(x))\n",
        "        x = self.dropout3(x)\n",
        "        x = self.relu(self.dense1(x))\n",
        "        x = self.relu(self.dense2(x))\n",
        "        x = self.relu(self.dense3(x))\n",
        "        x = self.sigmoid(self.cls(x))\n",
        "\n",
        "        return x"
      ]
    },
    {
      "cell_type": "markdown",
      "metadata": {
        "id": "wLdS0FrY9Mc-"
      },
      "source": [
        "# Train the models"
      ]
    },
    {
      "cell_type": "code",
      "execution_count": null,
      "metadata": {
        "id": "twgz0gQvFLu7"
      },
      "outputs": [],
      "source": [
        "# Initialise the model\n",
        "# model = BaselineCNN()\n",
        "model = CNN14()\n",
        "# model = CNN17()\n",
        "# model = CNN20()"
      ]
    },
    {
      "cell_type": "code",
      "execution_count": null,
      "metadata": {
        "id": "mJybtfOJGk4c"
      },
      "outputs": [],
      "source": [
        "# Set the criterion or loss function\n",
        "criterion = nn.BCELoss()\n",
        "\n",
        "# Initialise the optimizer\n",
        "optimizer = optim.SGD(model.parameters(), lr = 0.001, momentum = 0.9)\n",
        "\n",
        "# Set the device to gpu\n",
        "device = \"cuda\""
      ]
    },
    {
      "cell_type": "code",
      "execution_count": null,
      "metadata": {
        "colab": {
          "base_uri": "https://localhost:8080/"
        },
        "id": "jp-viNp9KdsZ",
        "outputId": "088a9d2b-5381-496c-bc9e-cb10b6a381d2"
      },
      "outputs": [
        {
          "output_type": "execute_result",
          "data": {
            "text/plain": [
              "CNN14(\n",
              "  (conv1): Conv1d(1, 32, kernel_size=(2,), stride=(1,))\n",
              "  (bn1): BatchNorm1d(32, eps=1e-05, momentum=0.1, affine=True, track_running_stats=True)\n",
              "  (dropout1): Dropout(p=0.2, inplace=False)\n",
              "  (conv2): Conv1d(32, 64, kernel_size=(2,), stride=(1,))\n",
              "  (bn2): BatchNorm1d(64, eps=1e-05, momentum=0.1, affine=True, track_running_stats=True)\n",
              "  (dropout2): Dropout(p=0.5, inplace=False)\n",
              "  (dense): Linear(in_features=1664, out_features=64, bias=True)\n",
              "  (dropout3): Dropout(p=0.5, inplace=False)\n",
              "  (dense1): Linear(in_features=64, out_features=100, bias=True)\n",
              "  (dense2): Linear(in_features=100, out_features=50, bias=True)\n",
              "  (dense3): Linear(in_features=50, out_features=25, bias=True)\n",
              "  (cls): Linear(in_features=25, out_features=1, bias=True)\n",
              "  (relu): ReLU()\n",
              "  (sigmoid): Sigmoid()\n",
              ")"
            ]
          },
          "metadata": {},
          "execution_count": 57
        }
      ],
      "source": [
        "# Save the model in the device\n",
        "model.to(device)"
      ]
    },
    {
      "cell_type": "code",
      "execution_count": null,
      "metadata": {
        "id": "RqaOc4k-Hccg"
      },
      "outputs": [],
      "source": [
        "# Evaluate a CNN model on training set\n",
        "def train_evaluate(model):\n",
        "\n",
        "    running_loss = 0.0\n",
        "    preds = []\n",
        "    true = []\n",
        "    for i, data in enumerate(trainloader, 0):\n",
        "        # get the inputs; data is a list of [inputs, labels]\n",
        "        inputs, labels = data\n",
        "\n",
        "        # forward propagation\n",
        "        outputs = model(inputs.unsqueeze(1).float().to(device))\n",
        "        loss = criterion(outputs.squeeze(), labels.squeeze().float().to(device))\n",
        "\n",
        "        pred = outputs.detach().cpu().numpy()\n",
        "        pred[pred >= 0.5] = 1\n",
        "        pred[pred < 0.5] = 0\n",
        "        pred = list(pred.reshape(pred.shape[0])) #\n",
        "\n",
        "        preds.extend(pred)\n",
        "        true.extend(labels.detach().cpu().numpy())\n",
        "\n",
        "        running_loss += loss.item()\n",
        "\n",
        "    running_loss /= i\n",
        "\n",
        "    preds = np.array(preds)\n",
        "    true = np.array(true)\n",
        "    train_accuracy, train_precision, train_recall, train_f1, train_roc, train_prc = compute_metrics(preds, true)\n",
        "\n",
        "    print('Finished evaluation')\n",
        "    print(\"The training metrics are: \")\n",
        "    print(f\"\\tAccuracy: {train_accuracy: .4f}, Precision: {train_precision: .4f}, Recall: {train_recall: .4f}, F1: {train_f1: .4f}\\n\")\n",
        "\n",
        "    return train_accuracy, train_precision, train_recall, train_f1, running_loss"
      ]
    },
    {
      "cell_type": "code",
      "execution_count": null,
      "metadata": {
        "id": "F36g1GryMVSB"
      },
      "outputs": [],
      "source": [
        "# Evaluate a CNN model on the test set\n",
        "def test_evaluate(model):\n",
        "\n",
        "    running_loss = 0.0\n",
        "    preds = []\n",
        "    true = []\n",
        "    for i, data in enumerate(testloader, 0):\n",
        "        # get the inputs; data is a list of [inputs, labels]\n",
        "        inputs, labels = data\n",
        "\n",
        "        # forward propagation\n",
        "        outputs = model(inputs.unsqueeze(1).float().to(device))\n",
        "        loss = criterion(outputs.squeeze(), labels.squeeze().float().to(device))\n",
        "\n",
        "        pred = outputs.detach().cpu().numpy()\n",
        "        pred[pred >= 0.5] = 1\n",
        "        pred[pred < 0.5] = 0\n",
        "        pred = list(pred.reshape(pred.shape[0]))\n",
        "\n",
        "        preds.extend(pred)\n",
        "        true.extend(labels.detach().cpu().numpy())\n",
        "\n",
        "        running_loss += loss.item()\n",
        "\n",
        "    running_loss /= (i+1)\n",
        "\n",
        "    preds = np.array(preds)\n",
        "    true = np.array(true)\n",
        "    test_accuracy, test_precision, test_recall, test_f1, test_roc, test_prc = compute_metrics(preds, true)\n",
        "\n",
        "    print('Finished evaluation')\n",
        "    print(\"The test metrics are: \")\n",
        "    print(f\"\\tAccuracy: {test_accuracy: .4f}, Precision: {test_precision: .4f}, Recall: {test_recall: .4f}, F1: {test_f1: .4f}\\n\")\n",
        "\n",
        "    return test_accuracy, test_precision, test_recall, test_f1, running_loss"
      ]
    },
    {
      "cell_type": "code",
      "execution_count": null,
      "metadata": {
        "colab": {
          "base_uri": "https://localhost:8080/"
        },
        "id": "MKCnXsJxFPa4",
        "outputId": "fc41450b-a5c6-41ac-8696-0870ef012f17"
      },
      "outputs": [
        {
          "output_type": "stream",
          "name": "stderr",
          "text": [
            "112it [00:02, 38.20it/s]\n"
          ]
        },
        {
          "output_type": "stream",
          "name": "stdout",
          "text": [
            "Finished evaluation\n",
            "The training metrics are: \n",
            "\tAccuracy:  0.9983, Precision:  0.0000, Recall:  0.0000, F1:  0.0000\n",
            "\n"
          ]
        },
        {
          "output_type": "stream",
          "name": "stderr",
          "text": [
            "\r  3%|▎         | 1/35 [00:07<04:07,  7.28s/it]"
          ]
        },
        {
          "output_type": "stream",
          "name": "stdout",
          "text": [
            "Finished evaluation\n",
            "The test metrics are: \n",
            "\tAccuracy:  0.9982, Precision:  0.0000, Recall:  0.0000, F1:  0.0000\n",
            "\n"
          ]
        },
        {
          "output_type": "stream",
          "name": "stderr",
          "text": [
            "112it [00:02, 46.22it/s]\n"
          ]
        },
        {
          "output_type": "stream",
          "name": "stdout",
          "text": [
            "Finished evaluation\n",
            "The training metrics are: \n",
            "\tAccuracy:  0.9983, Precision:  0.0000, Recall:  0.0000, F1:  0.0000\n",
            "\n"
          ]
        },
        {
          "output_type": "stream",
          "name": "stderr",
          "text": [
            "\r  6%|▌         | 2/35 [00:12<03:21,  6.10s/it]"
          ]
        },
        {
          "output_type": "stream",
          "name": "stdout",
          "text": [
            "Finished evaluation\n",
            "The test metrics are: \n",
            "\tAccuracy:  0.9982, Precision:  0.0000, Recall:  0.0000, F1:  0.0000\n",
            "\n"
          ]
        },
        {
          "output_type": "stream",
          "name": "stderr",
          "text": [
            "112it [00:02, 44.17it/s]\n"
          ]
        },
        {
          "output_type": "stream",
          "name": "stdout",
          "text": [
            "Finished evaluation\n",
            "The training metrics are: \n",
            "\tAccuracy:  0.9983, Precision:  0.0000, Recall:  0.0000, F1:  0.0000\n",
            "\n"
          ]
        },
        {
          "output_type": "stream",
          "name": "stderr",
          "text": [
            "\r  9%|▊         | 3/35 [00:18<03:05,  5.80s/it]"
          ]
        },
        {
          "output_type": "stream",
          "name": "stdout",
          "text": [
            "Finished evaluation\n",
            "The test metrics are: \n",
            "\tAccuracy:  0.9982, Precision:  0.0000, Recall:  0.0000, F1:  0.0000\n",
            "\n"
          ]
        },
        {
          "output_type": "stream",
          "name": "stderr",
          "text": [
            "112it [00:02, 45.04it/s]\n"
          ]
        },
        {
          "output_type": "stream",
          "name": "stdout",
          "text": [
            "Finished evaluation\n",
            "The training metrics are: \n",
            "\tAccuracy:  0.9983, Precision:  0.0000, Recall:  0.0000, F1:  0.0000\n",
            "\n"
          ]
        },
        {
          "output_type": "stream",
          "name": "stderr",
          "text": [
            "\r 11%|█▏        | 4/35 [00:23<02:54,  5.64s/it]"
          ]
        },
        {
          "output_type": "stream",
          "name": "stdout",
          "text": [
            "Finished evaluation\n",
            "The test metrics are: \n",
            "\tAccuracy:  0.9982, Precision:  0.0000, Recall:  0.0000, F1:  0.0000\n",
            "\n"
          ]
        },
        {
          "output_type": "stream",
          "name": "stderr",
          "text": [
            "112it [00:02, 44.91it/s]\n"
          ]
        },
        {
          "output_type": "stream",
          "name": "stdout",
          "text": [
            "Finished evaluation\n",
            "The training metrics are: \n",
            "\tAccuracy:  0.9983, Precision:  0.0000, Recall:  0.0000, F1:  0.0000\n",
            "\n"
          ]
        },
        {
          "output_type": "stream",
          "name": "stderr",
          "text": [
            "\r 14%|█▍        | 5/35 [00:28<02:47,  5.57s/it]"
          ]
        },
        {
          "output_type": "stream",
          "name": "stdout",
          "text": [
            "Finished evaluation\n",
            "The test metrics are: \n",
            "\tAccuracy:  0.9982, Precision:  0.0000, Recall:  0.0000, F1:  0.0000\n",
            "\n"
          ]
        },
        {
          "output_type": "stream",
          "name": "stderr",
          "text": [
            "112it [00:02, 45.95it/s]\n"
          ]
        },
        {
          "output_type": "stream",
          "name": "stdout",
          "text": [
            "Finished evaluation\n",
            "The training metrics are: \n",
            "\tAccuracy:  0.9983, Precision:  0.0000, Recall:  0.0000, F1:  0.0000\n",
            "\n"
          ]
        },
        {
          "output_type": "stream",
          "name": "stderr",
          "text": [
            "\r 17%|█▋        | 6/35 [00:34<02:39,  5.49s/it]"
          ]
        },
        {
          "output_type": "stream",
          "name": "stdout",
          "text": [
            "Finished evaluation\n",
            "The test metrics are: \n",
            "\tAccuracy:  0.9982, Precision:  0.0000, Recall:  0.0000, F1:  0.0000\n",
            "\n"
          ]
        },
        {
          "output_type": "stream",
          "name": "stderr",
          "text": [
            "112it [00:02, 44.53it/s]\n"
          ]
        },
        {
          "output_type": "stream",
          "name": "stdout",
          "text": [
            "Finished evaluation\n",
            "The training metrics are: \n",
            "\tAccuracy:  0.9983, Precision:  0.0000, Recall:  0.0000, F1:  0.0000\n",
            "\n"
          ]
        },
        {
          "output_type": "stream",
          "name": "stderr",
          "text": [
            "\r 20%|██        | 7/35 [00:39<02:33,  5.47s/it]"
          ]
        },
        {
          "output_type": "stream",
          "name": "stdout",
          "text": [
            "Finished evaluation\n",
            "The test metrics are: \n",
            "\tAccuracy:  0.9982, Precision:  0.0000, Recall:  0.0000, F1:  0.0000\n",
            "\n"
          ]
        },
        {
          "output_type": "stream",
          "name": "stderr",
          "text": [
            "112it [00:02, 44.89it/s]\n"
          ]
        },
        {
          "output_type": "stream",
          "name": "stdout",
          "text": [
            "Finished evaluation\n",
            "The training metrics are: \n",
            "\tAccuracy:  0.9983, Precision:  0.0000, Recall:  0.0000, F1:  0.0000\n",
            "\n"
          ]
        },
        {
          "output_type": "stream",
          "name": "stderr",
          "text": [
            "\r 23%|██▎       | 8/35 [00:44<02:27,  5.45s/it]"
          ]
        },
        {
          "output_type": "stream",
          "name": "stdout",
          "text": [
            "Finished evaluation\n",
            "The test metrics are: \n",
            "\tAccuracy:  0.9982, Precision:  0.0000, Recall:  0.0000, F1:  0.0000\n",
            "\n"
          ]
        },
        {
          "output_type": "stream",
          "name": "stderr",
          "text": [
            "112it [00:02, 46.17it/s]\n"
          ]
        },
        {
          "output_type": "stream",
          "name": "stdout",
          "text": [
            "Finished evaluation\n",
            "The training metrics are: \n",
            "\tAccuracy:  0.9983, Precision:  0.0000, Recall:  0.0000, F1:  0.0000\n",
            "\n"
          ]
        },
        {
          "output_type": "stream",
          "name": "stderr",
          "text": [
            "\r 26%|██▌       | 9/35 [00:50<02:20,  5.41s/it]"
          ]
        },
        {
          "output_type": "stream",
          "name": "stdout",
          "text": [
            "Finished evaluation\n",
            "The test metrics are: \n",
            "\tAccuracy:  0.9982, Precision:  0.0000, Recall:  0.0000, F1:  0.0000\n",
            "\n"
          ]
        },
        {
          "output_type": "stream",
          "name": "stderr",
          "text": [
            "112it [00:02, 44.70it/s]\n"
          ]
        },
        {
          "output_type": "stream",
          "name": "stdout",
          "text": [
            "Finished evaluation\n",
            "The training metrics are: \n",
            "\tAccuracy:  0.9983, Precision:  0.0000, Recall:  0.0000, F1:  0.0000\n",
            "\n"
          ]
        },
        {
          "output_type": "stream",
          "name": "stderr",
          "text": [
            "\r 29%|██▊       | 10/35 [00:55<02:15,  5.42s/it]"
          ]
        },
        {
          "output_type": "stream",
          "name": "stdout",
          "text": [
            "Finished evaluation\n",
            "The test metrics are: \n",
            "\tAccuracy:  0.9982, Precision:  0.0000, Recall:  0.0000, F1:  0.0000\n",
            "\n"
          ]
        },
        {
          "output_type": "stream",
          "name": "stderr",
          "text": [
            "112it [00:02, 44.12it/s]\n"
          ]
        },
        {
          "output_type": "stream",
          "name": "stdout",
          "text": [
            "Finished evaluation\n",
            "The training metrics are: \n",
            "\tAccuracy:  0.9983, Precision:  0.0000, Recall:  0.0000, F1:  0.0000\n",
            "\n"
          ]
        },
        {
          "output_type": "stream",
          "name": "stderr",
          "text": [
            "\r 31%|███▏      | 11/35 [01:01<02:10,  5.43s/it]"
          ]
        },
        {
          "output_type": "stream",
          "name": "stdout",
          "text": [
            "Finished evaluation\n",
            "The test metrics are: \n",
            "\tAccuracy:  0.9982, Precision:  0.0000, Recall:  0.0000, F1:  0.0000\n",
            "\n"
          ]
        },
        {
          "output_type": "stream",
          "name": "stderr",
          "text": [
            "112it [00:02, 44.27it/s]\n"
          ]
        },
        {
          "output_type": "stream",
          "name": "stdout",
          "text": [
            "Finished evaluation\n",
            "The training metrics are: \n",
            "\tAccuracy:  0.9983, Precision:  0.0000, Recall:  0.0000, F1:  0.0000\n",
            "\n"
          ]
        },
        {
          "output_type": "stream",
          "name": "stderr",
          "text": [
            "\r 34%|███▍      | 12/35 [01:07<02:13,  5.80s/it]"
          ]
        },
        {
          "output_type": "stream",
          "name": "stdout",
          "text": [
            "Finished evaluation\n",
            "The test metrics are: \n",
            "\tAccuracy:  0.9982, Precision:  0.0000, Recall:  0.0000, F1:  0.0000\n",
            "\n"
          ]
        },
        {
          "output_type": "stream",
          "name": "stderr",
          "text": [
            "112it [00:02, 44.61it/s]\n"
          ]
        },
        {
          "output_type": "stream",
          "name": "stdout",
          "text": [
            "Finished evaluation\n",
            "The training metrics are: \n",
            "\tAccuracy:  0.9983, Precision:  0.0000, Recall:  0.0000, F1:  0.0000\n",
            "\n"
          ]
        },
        {
          "output_type": "stream",
          "name": "stderr",
          "text": [
            "\r 37%|███▋      | 13/35 [01:13<02:05,  5.68s/it]"
          ]
        },
        {
          "output_type": "stream",
          "name": "stdout",
          "text": [
            "Finished evaluation\n",
            "The test metrics are: \n",
            "\tAccuracy:  0.9982, Precision:  0.0000, Recall:  0.0000, F1:  0.0000\n",
            "\n"
          ]
        },
        {
          "output_type": "stream",
          "name": "stderr",
          "text": [
            "112it [00:02, 44.52it/s]\n"
          ]
        },
        {
          "output_type": "stream",
          "name": "stdout",
          "text": [
            "Finished evaluation\n",
            "The training metrics are: \n",
            "\tAccuracy:  0.9983, Precision:  0.0000, Recall:  0.0000, F1:  0.0000\n",
            "\n"
          ]
        },
        {
          "output_type": "stream",
          "name": "stderr",
          "text": [
            "\r 40%|████      | 14/35 [01:18<01:57,  5.61s/it]"
          ]
        },
        {
          "output_type": "stream",
          "name": "stdout",
          "text": [
            "Finished evaluation\n",
            "The test metrics are: \n",
            "\tAccuracy:  0.9982, Precision:  0.0000, Recall:  0.0000, F1:  0.0000\n",
            "\n"
          ]
        },
        {
          "output_type": "stream",
          "name": "stderr",
          "text": [
            "112it [00:02, 44.51it/s]\n"
          ]
        },
        {
          "output_type": "stream",
          "name": "stdout",
          "text": [
            "Finished evaluation\n",
            "The training metrics are: \n",
            "\tAccuracy:  0.9983, Precision:  0.0000, Recall:  0.0000, F1:  0.0000\n",
            "\n"
          ]
        },
        {
          "output_type": "stream",
          "name": "stderr",
          "text": [
            "\r 43%|████▎     | 15/35 [01:24<01:51,  5.55s/it]"
          ]
        },
        {
          "output_type": "stream",
          "name": "stdout",
          "text": [
            "Finished evaluation\n",
            "The test metrics are: \n",
            "\tAccuracy:  0.9982, Precision:  0.0000, Recall:  0.0000, F1:  0.0000\n",
            "\n"
          ]
        },
        {
          "output_type": "stream",
          "name": "stderr",
          "text": [
            "112it [00:02, 43.82it/s]\n"
          ]
        },
        {
          "output_type": "stream",
          "name": "stdout",
          "text": [
            "Finished evaluation\n",
            "The training metrics are: \n",
            "\tAccuracy:  0.9983, Precision:  0.0000, Recall:  0.0000, F1:  0.0000\n",
            "\n"
          ]
        },
        {
          "output_type": "stream",
          "name": "stderr",
          "text": [
            "\r 46%|████▌     | 16/35 [01:29<01:44,  5.52s/it]"
          ]
        },
        {
          "output_type": "stream",
          "name": "stdout",
          "text": [
            "Finished evaluation\n",
            "The test metrics are: \n",
            "\tAccuracy:  0.9982, Precision:  0.0000, Recall:  0.0000, F1:  0.0000\n",
            "\n"
          ]
        },
        {
          "output_type": "stream",
          "name": "stderr",
          "text": [
            "112it [00:02, 44.77it/s]\n"
          ]
        },
        {
          "output_type": "stream",
          "name": "stdout",
          "text": [
            "Finished evaluation\n",
            "The training metrics are: \n",
            "\tAccuracy:  0.9983, Precision:  0.0000, Recall:  0.0000, F1:  0.0000\n",
            "\n"
          ]
        },
        {
          "output_type": "stream",
          "name": "stderr",
          "text": [
            "\r 49%|████▊     | 17/35 [01:35<01:38,  5.49s/it]"
          ]
        },
        {
          "output_type": "stream",
          "name": "stdout",
          "text": [
            "Finished evaluation\n",
            "The test metrics are: \n",
            "\tAccuracy:  0.9982, Precision:  0.0000, Recall:  0.0000, F1:  0.0000\n",
            "\n"
          ]
        },
        {
          "output_type": "stream",
          "name": "stderr",
          "text": [
            "112it [00:02, 46.03it/s]\n"
          ]
        },
        {
          "output_type": "stream",
          "name": "stdout",
          "text": [
            "Finished evaluation\n",
            "The training metrics are: \n",
            "\tAccuracy:  0.9983, Precision:  0.0000, Recall:  0.0000, F1:  0.0000\n",
            "\n"
          ]
        },
        {
          "output_type": "stream",
          "name": "stderr",
          "text": [
            "\r 51%|█████▏    | 18/35 [01:40<01:32,  5.45s/it]"
          ]
        },
        {
          "output_type": "stream",
          "name": "stdout",
          "text": [
            "Finished evaluation\n",
            "The test metrics are: \n",
            "\tAccuracy:  0.9982, Precision:  0.0000, Recall:  0.0000, F1:  0.0000\n",
            "\n"
          ]
        },
        {
          "output_type": "stream",
          "name": "stderr",
          "text": [
            "112it [00:02, 44.22it/s]\n"
          ]
        },
        {
          "output_type": "stream",
          "name": "stdout",
          "text": [
            "Finished evaluation\n",
            "The training metrics are: \n",
            "\tAccuracy:  0.9983, Precision:  0.0000, Recall:  0.0000, F1:  0.0000\n",
            "\n"
          ]
        },
        {
          "output_type": "stream",
          "name": "stderr",
          "text": [
            "\r 54%|█████▍    | 19/35 [01:45<01:27,  5.46s/it]"
          ]
        },
        {
          "output_type": "stream",
          "name": "stdout",
          "text": [
            "Finished evaluation\n",
            "The test metrics are: \n",
            "\tAccuracy:  0.9982, Precision:  0.0000, Recall:  0.0000, F1:  0.0000\n",
            "\n"
          ]
        },
        {
          "output_type": "stream",
          "name": "stderr",
          "text": [
            "112it [00:02, 44.04it/s]\n"
          ]
        },
        {
          "output_type": "stream",
          "name": "stdout",
          "text": [
            "Finished evaluation\n",
            "The training metrics are: \n",
            "\tAccuracy:  0.9983, Precision:  0.0000, Recall:  0.0000, F1:  0.0000\n",
            "\n"
          ]
        },
        {
          "output_type": "stream",
          "name": "stderr",
          "text": [
            "\r 57%|█████▋    | 20/35 [01:51<01:24,  5.62s/it]"
          ]
        },
        {
          "output_type": "stream",
          "name": "stdout",
          "text": [
            "Finished evaluation\n",
            "The test metrics are: \n",
            "\tAccuracy:  0.9982, Precision:  0.0000, Recall:  0.0000, F1:  0.0000\n",
            "\n"
          ]
        },
        {
          "output_type": "stream",
          "name": "stderr",
          "text": [
            "112it [00:02, 43.60it/s]\n"
          ]
        },
        {
          "output_type": "stream",
          "name": "stdout",
          "text": [
            "Finished evaluation\n",
            "The training metrics are: \n",
            "\tAccuracy:  0.9983, Precision:  0.0000, Recall:  0.0000, F1:  0.0000\n",
            "\n"
          ]
        },
        {
          "output_type": "stream",
          "name": "stderr",
          "text": [
            "\r 60%|██████    | 21/35 [01:57<01:18,  5.60s/it]"
          ]
        },
        {
          "output_type": "stream",
          "name": "stdout",
          "text": [
            "Finished evaluation\n",
            "The test metrics are: \n",
            "\tAccuracy:  0.9982, Precision:  0.0000, Recall:  0.0000, F1:  0.0000\n",
            "\n"
          ]
        },
        {
          "output_type": "stream",
          "name": "stderr",
          "text": [
            "112it [00:02, 45.27it/s]\n"
          ]
        },
        {
          "output_type": "stream",
          "name": "stdout",
          "text": [
            "Finished evaluation\n",
            "The training metrics are: \n",
            "\tAccuracy:  0.9983, Precision:  0.0000, Recall:  0.0000, F1:  0.0000\n",
            "\n"
          ]
        },
        {
          "output_type": "stream",
          "name": "stderr",
          "text": [
            "\r 63%|██████▎   | 22/35 [02:02<01:12,  5.54s/it]"
          ]
        },
        {
          "output_type": "stream",
          "name": "stdout",
          "text": [
            "Finished evaluation\n",
            "The test metrics are: \n",
            "\tAccuracy:  0.9982, Precision:  0.0000, Recall:  0.0000, F1:  0.0000\n",
            "\n"
          ]
        },
        {
          "output_type": "stream",
          "name": "stderr",
          "text": [
            "112it [00:02, 44.79it/s]\n"
          ]
        },
        {
          "output_type": "stream",
          "name": "stdout",
          "text": [
            "Finished evaluation\n",
            "The training metrics are: \n",
            "\tAccuracy:  0.9983, Precision:  0.0000, Recall:  0.0000, F1:  0.0000\n",
            "\n"
          ]
        },
        {
          "output_type": "stream",
          "name": "stderr",
          "text": [
            "\r 66%|██████▌   | 23/35 [02:08<01:07,  5.66s/it]"
          ]
        },
        {
          "output_type": "stream",
          "name": "stdout",
          "text": [
            "Finished evaluation\n",
            "The test metrics are: \n",
            "\tAccuracy:  0.9982, Precision:  0.0000, Recall:  0.0000, F1:  0.0000\n",
            "\n"
          ]
        },
        {
          "output_type": "stream",
          "name": "stderr",
          "text": [
            "112it [00:02, 44.67it/s]\n"
          ]
        },
        {
          "output_type": "stream",
          "name": "stdout",
          "text": [
            "Finished evaluation\n",
            "The training metrics are: \n",
            "\tAccuracy:  0.9983, Precision:  0.0000, Recall:  0.0000, F1:  0.0000\n",
            "\n"
          ]
        },
        {
          "output_type": "stream",
          "name": "stderr",
          "text": [
            "\r 69%|██████▊   | 24/35 [02:14<01:01,  5.58s/it]"
          ]
        },
        {
          "output_type": "stream",
          "name": "stdout",
          "text": [
            "Finished evaluation\n",
            "The test metrics are: \n",
            "\tAccuracy:  0.9982, Precision:  0.0000, Recall:  0.0000, F1:  0.0000\n",
            "\n"
          ]
        },
        {
          "output_type": "stream",
          "name": "stderr",
          "text": [
            "112it [00:02, 45.34it/s]\n"
          ]
        },
        {
          "output_type": "stream",
          "name": "stdout",
          "text": [
            "Finished evaluation\n",
            "The training metrics are: \n",
            "\tAccuracy:  0.9983, Precision:  0.0000, Recall:  0.0000, F1:  0.0000\n",
            "\n"
          ]
        },
        {
          "output_type": "stream",
          "name": "stderr",
          "text": [
            "\r 71%|███████▏  | 25/35 [02:19<00:55,  5.53s/it]"
          ]
        },
        {
          "output_type": "stream",
          "name": "stdout",
          "text": [
            "Finished evaluation\n",
            "The test metrics are: \n",
            "\tAccuracy:  0.9982, Precision:  0.0000, Recall:  0.0000, F1:  0.0000\n",
            "\n"
          ]
        },
        {
          "output_type": "stream",
          "name": "stderr",
          "text": [
            "112it [00:02, 45.08it/s]\n"
          ]
        },
        {
          "output_type": "stream",
          "name": "stdout",
          "text": [
            "Finished evaluation\n",
            "The training metrics are: \n",
            "\tAccuracy:  0.9983, Precision:  0.0000, Recall:  0.0000, F1:  0.0000\n",
            "\n"
          ]
        },
        {
          "output_type": "stream",
          "name": "stderr",
          "text": [
            "\r 74%|███████▍  | 26/35 [02:24<00:49,  5.49s/it]"
          ]
        },
        {
          "output_type": "stream",
          "name": "stdout",
          "text": [
            "Finished evaluation\n",
            "The test metrics are: \n",
            "\tAccuracy:  0.9982, Precision:  0.0000, Recall:  0.0000, F1:  0.0000\n",
            "\n"
          ]
        },
        {
          "output_type": "stream",
          "name": "stderr",
          "text": [
            "112it [00:02, 45.16it/s]\n"
          ]
        },
        {
          "output_type": "stream",
          "name": "stdout",
          "text": [
            "Finished evaluation\n",
            "The training metrics are: \n",
            "\tAccuracy:  0.9983, Precision:  0.0000, Recall:  0.0000, F1:  0.0000\n",
            "\n"
          ]
        },
        {
          "output_type": "stream",
          "name": "stderr",
          "text": [
            "\r 77%|███████▋  | 27/35 [02:30<00:43,  5.45s/it]"
          ]
        },
        {
          "output_type": "stream",
          "name": "stdout",
          "text": [
            "Finished evaluation\n",
            "The test metrics are: \n",
            "\tAccuracy:  0.9982, Precision:  0.0000, Recall:  0.0000, F1:  0.0000\n",
            "\n"
          ]
        },
        {
          "output_type": "stream",
          "name": "stderr",
          "text": [
            "112it [00:02, 46.24it/s]\n"
          ]
        },
        {
          "output_type": "stream",
          "name": "stdout",
          "text": [
            "Finished evaluation\n",
            "The training metrics are: \n",
            "\tAccuracy:  0.9983, Precision:  0.0000, Recall:  0.0000, F1:  0.0000\n",
            "\n"
          ]
        },
        {
          "output_type": "stream",
          "name": "stderr",
          "text": [
            "\r 80%|████████  | 28/35 [02:35<00:37,  5.41s/it]"
          ]
        },
        {
          "output_type": "stream",
          "name": "stdout",
          "text": [
            "Finished evaluation\n",
            "The test metrics are: \n",
            "\tAccuracy:  0.9982, Precision:  0.0000, Recall:  0.0000, F1:  0.0000\n",
            "\n"
          ]
        },
        {
          "output_type": "stream",
          "name": "stderr",
          "text": [
            "112it [00:02, 44.65it/s]\n"
          ]
        },
        {
          "output_type": "stream",
          "name": "stdout",
          "text": [
            "Finished evaluation\n",
            "The training metrics are: \n",
            "\tAccuracy:  0.9983, Precision:  0.0000, Recall:  0.0000, F1:  0.0000\n",
            "\n"
          ]
        },
        {
          "output_type": "stream",
          "name": "stderr",
          "text": [
            "\r 83%|████████▎ | 29/35 [02:41<00:32,  5.42s/it]"
          ]
        },
        {
          "output_type": "stream",
          "name": "stdout",
          "text": [
            "Finished evaluation\n",
            "The test metrics are: \n",
            "\tAccuracy:  0.9982, Precision:  0.0000, Recall:  0.0000, F1:  0.0000\n",
            "\n"
          ]
        },
        {
          "output_type": "stream",
          "name": "stderr",
          "text": [
            "112it [00:02, 45.08it/s]\n"
          ]
        },
        {
          "output_type": "stream",
          "name": "stdout",
          "text": [
            "Finished evaluation\n",
            "The training metrics are: \n",
            "\tAccuracy:  0.9983, Precision:  0.0000, Recall:  0.0000, F1:  0.0000\n",
            "\n"
          ]
        },
        {
          "output_type": "stream",
          "name": "stderr",
          "text": [
            "\r 86%|████████▌ | 30/35 [02:46<00:26,  5.39s/it]"
          ]
        },
        {
          "output_type": "stream",
          "name": "stdout",
          "text": [
            "Finished evaluation\n",
            "The test metrics are: \n",
            "\tAccuracy:  0.9982, Precision:  0.0000, Recall:  0.0000, F1:  0.0000\n",
            "\n"
          ]
        },
        {
          "output_type": "stream",
          "name": "stderr",
          "text": [
            "112it [00:02, 45.10it/s]\n"
          ]
        },
        {
          "output_type": "stream",
          "name": "stdout",
          "text": [
            "Finished evaluation\n",
            "The training metrics are: \n",
            "\tAccuracy:  0.9983, Precision:  0.0000, Recall:  0.0000, F1:  0.0000\n",
            "\n"
          ]
        },
        {
          "output_type": "stream",
          "name": "stderr",
          "text": [
            "\r 89%|████████▊ | 31/35 [02:51<00:21,  5.40s/it]"
          ]
        },
        {
          "output_type": "stream",
          "name": "stdout",
          "text": [
            "Finished evaluation\n",
            "The test metrics are: \n",
            "\tAccuracy:  0.9982, Precision:  0.0000, Recall:  0.0000, F1:  0.0000\n",
            "\n"
          ]
        },
        {
          "output_type": "stream",
          "name": "stderr",
          "text": [
            "112it [00:02, 45.25it/s]\n"
          ]
        },
        {
          "output_type": "stream",
          "name": "stdout",
          "text": [
            "Finished evaluation\n",
            "The training metrics are: \n",
            "\tAccuracy:  0.9983, Precision:  0.0000, Recall:  0.0000, F1:  0.0000\n",
            "\n"
          ]
        },
        {
          "output_type": "stream",
          "name": "stderr",
          "text": [
            "\r 91%|█████████▏| 32/35 [02:57<00:16,  5.39s/it]"
          ]
        },
        {
          "output_type": "stream",
          "name": "stdout",
          "text": [
            "Finished evaluation\n",
            "The test metrics are: \n",
            "\tAccuracy:  0.9982, Precision:  0.0000, Recall:  0.0000, F1:  0.0000\n",
            "\n"
          ]
        },
        {
          "output_type": "stream",
          "name": "stderr",
          "text": [
            "112it [00:02, 45.84it/s]\n"
          ]
        },
        {
          "output_type": "stream",
          "name": "stdout",
          "text": [
            "Finished evaluation\n",
            "The training metrics are: \n",
            "\tAccuracy:  0.9983, Precision:  0.0000, Recall:  0.0000, F1:  0.0000\n",
            "\n"
          ]
        },
        {
          "output_type": "stream",
          "name": "stderr",
          "text": [
            "\r 94%|█████████▍| 33/35 [03:02<00:10,  5.38s/it]"
          ]
        },
        {
          "output_type": "stream",
          "name": "stdout",
          "text": [
            "Finished evaluation\n",
            "The test metrics are: \n",
            "\tAccuracy:  0.9982, Precision:  0.0000, Recall:  0.0000, F1:  0.0000\n",
            "\n"
          ]
        },
        {
          "output_type": "stream",
          "name": "stderr",
          "text": [
            "112it [00:02, 44.54it/s]\n"
          ]
        },
        {
          "output_type": "stream",
          "name": "stdout",
          "text": [
            "Finished evaluation\n",
            "The training metrics are: \n",
            "\tAccuracy:  0.9983, Precision:  0.0000, Recall:  0.0000, F1:  0.0000\n",
            "\n"
          ]
        },
        {
          "output_type": "stream",
          "name": "stderr",
          "text": [
            "\r 97%|█████████▋| 34/35 [03:07<00:05,  5.40s/it]"
          ]
        },
        {
          "output_type": "stream",
          "name": "stdout",
          "text": [
            "Finished evaluation\n",
            "The test metrics are: \n",
            "\tAccuracy:  0.9982, Precision:  0.0000, Recall:  0.0000, F1:  0.0000\n",
            "\n"
          ]
        },
        {
          "output_type": "stream",
          "name": "stderr",
          "text": [
            "112it [00:02, 43.95it/s]\n"
          ]
        },
        {
          "output_type": "stream",
          "name": "stdout",
          "text": [
            "Finished evaluation\n",
            "The training metrics are: \n",
            "\tAccuracy:  0.9983, Precision:  0.0000, Recall:  0.0000, F1:  0.0000\n",
            "\n"
          ]
        },
        {
          "output_type": "stream",
          "name": "stderr",
          "text": [
            "100%|██████████| 35/35 [03:13<00:00,  5.53s/it]"
          ]
        },
        {
          "output_type": "stream",
          "name": "stdout",
          "text": [
            "Finished evaluation\n",
            "The test metrics are: \n",
            "\tAccuracy:  0.9982, Precision:  0.0000, Recall:  0.0000, F1:  0.0000\n",
            "\n",
            "Finished Training\n"
          ]
        },
        {
          "output_type": "stream",
          "name": "stderr",
          "text": [
            "\n"
          ]
        }
      ],
      "source": [
        "# Train a CNN model\n",
        "train_losses, test_losses = [], []\n",
        "train_accuracies, test_accuracies = [], []\n",
        "train_recalls, test_recalls = [], []\n",
        "train_precisions, test_precisions = [], []\n",
        "train_f1s, test_f1s = [], []\n",
        "\n",
        "epoch_list = []\n",
        "\n",
        "model.train()\n",
        "for epoch in tqdm(range(args.epochs), position = 0, leave = True):  # loop over the dataset multiple times\n",
        "\n",
        "    running_loss = 0.0\n",
        "    for i, data in tqdm(enumerate(trainloader, 0), position = 0, leave = True):\n",
        "        # get the inputs; data is a list of [inputs, labels]\n",
        "        inputs, labels = data\n",
        "\n",
        "        # zero the parameter gradients\n",
        "        optimizer.zero_grad()\n",
        "\n",
        "        # forward + backward + optimize\n",
        "        outputs = model(inputs.unsqueeze(1).float().to(device))\n",
        "        loss = criterion(outputs.squeeze(), labels.squeeze().float().to(device))\n",
        "        loss.backward()\n",
        "        optimizer.step()\n",
        "\n",
        "        # print statistics\n",
        "        running_loss += loss.item()\n",
        "        # if i % 15 == 0:    # print every 15 mini-batches\n",
        "        #     print(f'[{epoch + 1}, {i + 1:5d}] loss: {running_loss / 2000:.3f}')\n",
        "        #     running_loss = 0.0\n",
        "\n",
        "    train_accuracy, train_precision, train_recall, train_f1, train_loss = train_evaluate(model)\n",
        "    test_accuracy, test_precision, test_recall, test_f1, test_loss = test_evaluate(model)\n",
        "\n",
        "    train_losses.append(train_loss)\n",
        "    test_losses.append(test_loss)\n",
        "    \n",
        "    train_accuracies.append(train_accuracy)\n",
        "    test_accuracies.append(test_accuracy)\n",
        "\n",
        "    train_precisions.append(train_precision)\n",
        "    test_precisions.append(test_precision)\n",
        "    \n",
        "    train_recalls.append(train_recall)\n",
        "    test_recalls.append(test_recall)\n",
        "\n",
        "    train_f1s.append(train_f1)\n",
        "    test_f1s.append(test_f1)\n",
        "\n",
        "    epoch_list.append(epoch + 1)\n",
        "\n",
        "print('Finished Training')"
      ]
    },
    {
      "cell_type": "code",
      "source": [
        "torch.save(model.to(\"cpu\"), \"cnn14_unbalanced.pt\")"
      ],
      "metadata": {
        "id": "OiWRJp6N9PAd"
      },
      "execution_count": null,
      "outputs": []
    },
    {
      "cell_type": "code",
      "execution_count": null,
      "metadata": {
        "id": "z3U-jbLv2qqD",
        "colab": {
          "base_uri": "https://localhost:8080/",
          "height": 295
        },
        "outputId": "61e2f1b5-ab52-4535-b182-a4f729327747"
      },
      "outputs": [
        {
          "output_type": "display_data",
          "data": {
            "text/plain": [
              "<Figure size 360x288 with 1 Axes>"
            ],
            "image/png": "[encoded data removed]"
          },
          "metadata": {
            "needs_background": "light"
          }
        }
      ],
      "source": [
        "# Plot loss variation with epochs\n",
        "plt.figure(figsize = (5, 4))\n",
        "plt.plot(epoch_list, train_losses, label = \"Train Loss\")\n",
        "plt.plot(epoch_list, test_losses, label = \"Test Loss\")\n",
        "plt.legend()\n",
        "plt.xlabel(\"Number of Epochs\")\n",
        "plt.ylabel(\"Loss\")\n",
        "plt.title(\"Variation of Loss with epochs\")\n",
        "plt.show()"
      ]
    },
    {
      "cell_type": "code",
      "execution_count": null,
      "metadata": {
        "colab": {
          "base_uri": "https://localhost:8080/",
          "height": 295
        },
        "id": "a_7bM00n5TaJ",
        "outputId": "5a9ed574-7e29-4041-c15d-53e513bab254"
      },
      "outputs": [
        {
          "output_type": "display_data",
          "data": {
            "text/plain": [
              "<Figure size 360x288 with 1 Axes>"
            ],
            "image/png": "[encoded data removed]"
          },
          "metadata": {
            "needs_background": "light"
          }
        }
      ],
      "source": [
        "# Plot accuracy variation with epochs\n",
        "plt.figure(figsize = (5, 4))\n",
        "plt.plot(epoch_list, train_accuracies, label = \"Train Accuracy\")\n",
        "plt.plot(epoch_list, test_accuracies, label = \"Test Accuracy\")\n",
        "plt.legend()\n",
        "plt.xlabel(\"Number of Epochs\")\n",
        "plt.ylabel(\"Accuracy\")\n",
        "plt.title(\"Variation of Accuracy with epochs\")\n",
        "plt.show()"
      ]
    },
    {
      "cell_type": "code",
      "execution_count": null,
      "metadata": {
        "colab": {
          "base_uri": "https://localhost:8080/",
          "height": 295
        },
        "id": "5jRC-ypJ5qGk",
        "outputId": "0a6c79e6-5c2f-46f9-9758-79009e4baebc"
      },
      "outputs": [
        {
          "output_type": "display_data",
          "data": {
            "text/plain": [
              "<Figure size 360x288 with 1 Axes>"
            ],
            "image/png": "[encoded data removed]"
          },
          "metadata": {
            "needs_background": "light"
          }
        }
      ],
      "source": [
        "# Plot precision variation with epochs\n",
        "plt.figure(figsize = (5, 4))\n",
        "plt.plot(epoch_list, train_precisions, label = \"Train Precision\")\n",
        "plt.plot(epoch_list, test_precisions, label = \"Test Precision\")\n",
        "plt.legend()\n",
        "plt.xlabel(\"Number of Epochs\")\n",
        "plt.ylabel(\"Precision\")\n",
        "plt.title(\"Variation of Precision with epochs\")\n",
        "plt.show()"
      ]
    },
    {
      "cell_type": "code",
      "execution_count": null,
      "metadata": {
        "colab": {
          "base_uri": "https://localhost:8080/",
          "height": 295
        },
        "id": "p0ACgW6w5rCz",
        "outputId": "6389f54d-4b01-481e-96c2-8b75ac314b64"
      },
      "outputs": [
        {
          "output_type": "display_data",
          "data": {
            "text/plain": [
              "<Figure size 360x288 with 1 Axes>"
            ],
            "image/png": "[encoded data removed]"
          },
          "metadata": {
            "needs_background": "light"
          }
        }
      ],
      "source": [
        "# Plot recall variation with epochs\n",
        "plt.figure(figsize = (5, 4))\n",
        "plt.plot(epoch_list, train_recalls, label = \"Train Recall\")\n",
        "plt.plot(epoch_list, test_recalls, label = \"Test Recall\")\n",
        "plt.legend()\n",
        "plt.xlabel(\"Number of Epochs\")\n",
        "plt.ylabel(\"Recall\")\n",
        "plt.title(\"Variation of Recall with epochs\")\n",
        "plt.show()"
      ]
    },
    {
      "cell_type": "code",
      "execution_count": null,
      "metadata": {
        "colab": {
          "base_uri": "https://localhost:8080/",
          "height": 295
        },
        "id": "YvBhy7Wi5sjE",
        "outputId": "945824ee-5cc2-47d0-9d32-969f6819a6fd"
      },
      "outputs": [
        {
          "output_type": "display_data",
          "data": {
            "text/plain": [
              "<Figure size 360x288 with 1 Axes>"
            ],
            "image/png": "[encoded data removed]"
          },
          "metadata": {
            "needs_background": "light"
          }
        }
      ],
      "source": [
        "# Plot f1 variation with epochs\n",
        "plt.figure(figsize = (5, 4))\n",
        "plt.plot(epoch_list, train_f1s, label = \"Train F1\")\n",
        "plt.plot(epoch_list, test_f1s, label = \"Test F1\")\n",
        "plt.legend()\n",
        "plt.xlabel(\"Number of Epochs\")\n",
        "plt.ylabel(\"F1\")\n",
        "plt.title(\"Variation of F1 with epochs\")\n",
        "plt.show()"
      ]
    }
  ],
  "metadata": {
    "accelerator": "GPU",
    "colab": {
      "provenance": [],
      "collapsed_sections": [
        "PCrtppUD8klS",
        "QqfP6M_q8nPJ",
        "4-NK4nkg8rJj",
        "kbqP82_l8te0",
        "L0LHwoG28vlN"
      ]
    },
    "kernelspec": {
      "display_name": "Python 3",
      "name": "python3"
    },
    "language_info": {
      "name": "python"
    }
  },
  "nbformat": 4,
  "nbformat_minor": 0
}